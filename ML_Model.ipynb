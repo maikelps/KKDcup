{
 "cells": [
  {
   "cell_type": "code",
   "execution_count": 1,
   "metadata": {},
   "outputs": [],
   "source": [
    "import pandas as pd\n",
    "import numpy as np\n",
    "import seaborn as sns\n",
    "import matplotlib.pyplot as plt\n",
    "import warnings\n",
    "warnings.filterwarnings(\"ignore\")"
   ]
  },
  {
   "cell_type": "markdown",
   "metadata": {},
   "source": [
    "ML Lib:"
   ]
  },
  {
   "cell_type": "code",
   "execution_count": 2,
   "metadata": {},
   "outputs": [],
   "source": [
    "from sklearn.model_selection import RepeatedKFold\n",
    "from sklearn.preprocessing import MinMaxScaler, RobustScaler, FunctionTransformer\n",
    "from sklearn.compose import ColumnTransformer\n",
    "from sklearn.pipeline import Pipeline\n",
    "\n",
    "from sklearn.naive_bayes import BernoulliNB, GaussianNB\n",
    "from sklearn.tree import DecisionTreeClassifier\n",
    "from sklearn.ensemble import ExtraTreesClassifier\n",
    "from sklearn.neighbors import KNeighborsClassifier\n",
    "from sklearn.svm import SVC\n",
    "from sklearn.linear_model import LogisticRegression\n",
    "from sklearn.neural_network import MLPClassifier\n",
    "from xgboost import XGBClassifier\n",
    "\n",
    "from sklearn.metrics import accuracy_score, precision_score, recall_score, f1_score, roc_auc_score"
   ]
  },
  {
   "cell_type": "markdown",
   "metadata": {},
   "source": [
    "# Machine Learning Model"
   ]
  },
  {
   "cell_type": "markdown",
   "metadata": {},
   "source": [
    "# Experiment 1\n",
    "\n",
    "Fitting some basic models and assessing their performance without any parameter fine-tunning."
   ]
  },
  {
   "cell_type": "code",
   "execution_count": 3,
   "metadata": {},
   "outputs": [],
   "source": [
    "# Models in experiment 1\n",
    "models = {\n",
    "            'BernoulliNB' : BernoulliNB(),\n",
    "            'GaussianNB' : GaussianNB(),\n",
    "            'DTr' : DecisionTreeClassifier(),\n",
    "            'ExTrs': ExtraTreesClassifier(),\n",
    "            #'KNeigh' : KNeighborsClassifier(),\n",
    "            'svc': SVC(probability=True),\n",
    "            'xgb' : XGBClassifier(),\n",
    "            'logistic' : LogisticRegression(),\n",
    "            'MLP' : MLPClassifier()\n",
    "        }"
   ]
  },
  {
   "cell_type": "code",
   "execution_count": 4,
   "metadata": {},
   "outputs": [],
   "source": [
    "# Importing cleaned frame and selecting the columns from Assessment notebook\n",
    "df = pd.read_pickle('Data/preprocessed.pkl')\n",
    "\n",
    "assessment_cols = ['fully_funded', 'at_least_1_teacher_referred_donor', 'great_chat', 'at_least_1_green_donation', 'three_or_more_non_teacher_referred_donors', \n",
    "                   'one_non_teacher_referred_donor_giving_100_plus', 'donation_from_thoughtful_donor', 'is_exciting']\n",
    "\n",
    "# Filtering columns\n",
    "df = df[assessment_cols]"
   ]
  },
  {
   "cell_type": "code",
   "execution_count": 5,
   "metadata": {},
   "outputs": [],
   "source": [
    "# Separating\n",
    "X, y = df.iloc[:, :-1], df.iloc[:, -1]\n",
    "\n",
    "# Select binary columns to avoid scaling below\n",
    "binary_cols = X.select_dtypes('uint8').columns\n",
    "\n",
    "# Remaining columns\n",
    "non_binary_cols = [col for col in X.columns if col not in binary_cols]\n",
    "\n",
    "# Times to repeat Kfold instance\n",
    "rKF = RepeatedKFold(n_repeats=10, n_splits=3, random_state=23)"
   ]
  },
  {
   "cell_type": "code",
   "execution_count": 6,
   "metadata": {},
   "outputs": [
    {
     "name": "stdout",
     "output_type": "stream",
     "text": [
      "Doing: BernoulliNB\n"
     ]
    },
    {
     "name": "stdout",
     "output_type": "stream",
     "text": [
      "Doing: GaussianNB\n",
      "Doing: DTr\n",
      "Doing: ExTrs\n",
      "Doing: svc\n",
      "Doing: xgb\n",
      "Doing: logistic\n",
      "Doing: MLP\n"
     ]
    }
   ],
   "source": [
    "# Transformer that scales the non-binary columns and does nothing to the binary columns\n",
    "preprocessor = ColumnTransformer(\n",
    "    transformers=[\n",
    "        ('num', RobustScaler(), non_binary_cols),\n",
    "        ('bin', FunctionTransformer(None, validate=False), binary_cols) # does nothing\n",
    "    ])\n",
    "\n",
    "_folds, _names, _accuracy, _precision, _recall, _f1, _auc, _set_type = [], [], [], [], [], [], [], []\n",
    "\n",
    "for MODEL_NAME, ML_MODEL in models.items():\n",
    "    print(f\"Doing: {MODEL_NAME}\")\n",
    "    for fold_id, (train_index, test_index) in enumerate(rKF.split(X)):\n",
    "        \n",
    "        # Train test split\n",
    "        X_train, y_train = X.iloc[train_index], y.iloc[train_index]\n",
    "        X_test, y_test = X.iloc[test_index], y.iloc[test_index] \n",
    "\n",
    "        # Pipeline for training\n",
    "        _local_pipe = Pipeline([\n",
    "                                ('preprocessor', preprocessor),\n",
    "                                (MODEL_NAME, ML_MODEL)\n",
    "                            ])\n",
    "\n",
    "        # Fitting\n",
    "        _local_pipe.fit(X_train, y_train)\n",
    "\n",
    "        # Test the results in training and test to check for overfitting\n",
    "        lab = {'train' : (X_train, y_train), 'test': (X_test, y_test)}\n",
    "\n",
    "        for lab_type, (X1,Y1) in lab.items():\n",
    "\n",
    "            # Keeping len\n",
    "            _folds.append(fold_id)\n",
    "            _names.append(MODEL_NAME)\n",
    "            _set_type.append( lab_type )\n",
    "\n",
    "            # Predictions\n",
    "            y_pred = _local_pipe.predict(X1)\n",
    "\n",
    "            # Proba for AUC\n",
    "            y_proba = _local_pipe.predict_proba(X1)[:, 1]  # Probabilities for the positive class\n",
    "            _auc.append( roc_auc_score(Y1, y_proba) )\n",
    "            \n",
    "            # Metrics\n",
    "            _accuracy.append( accuracy_score(Y1, y_pred) )\n",
    "            _precision.append( precision_score(Y1, y_pred) )\n",
    "            _recall.append( recall_score(Y1, y_pred) )\n",
    "            _f1.append( f1_score(Y1, y_pred) )"
   ]
  },
  {
   "cell_type": "code",
   "execution_count": 7,
   "metadata": {},
   "outputs": [],
   "source": [
    "# Saving in DataFrame\n",
    "result_df = pd.DataFrame( {'fold_id':_folds, 'model_name':_names, 'set': _set_type, 'accuracy':_accuracy, 'precision':_precision, 'recall':_recall, 'f1':_f1, 'auc':_auc} )"
   ]
  },
  {
   "cell_type": "code",
   "execution_count": 8,
   "metadata": {},
   "outputs": [
    {
     "data": {
      "text/html": [
       "<div>\n",
       "<style scoped>\n",
       "    .dataframe tbody tr th:only-of-type {\n",
       "        vertical-align: middle;\n",
       "    }\n",
       "\n",
       "    .dataframe tbody tr th {\n",
       "        vertical-align: top;\n",
       "    }\n",
       "\n",
       "    .dataframe thead th {\n",
       "        text-align: right;\n",
       "    }\n",
       "</style>\n",
       "<table border=\"1\" class=\"dataframe\">\n",
       "  <thead>\n",
       "    <tr style=\"text-align: right;\">\n",
       "      <th>set</th>\n",
       "      <th>train</th>\n",
       "      <th>test</th>\n",
       "    </tr>\n",
       "    <tr>\n",
       "      <th>model_name</th>\n",
       "      <th></th>\n",
       "      <th></th>\n",
       "    </tr>\n",
       "  </thead>\n",
       "  <tbody>\n",
       "    <tr>\n",
       "      <th>BernoulliNB</th>\n",
       "      <td>1.000000</td>\n",
       "      <td>1.00000</td>\n",
       "    </tr>\n",
       "    <tr>\n",
       "      <th>DTr</th>\n",
       "      <td>1.000000</td>\n",
       "      <td>1.00000</td>\n",
       "    </tr>\n",
       "    <tr>\n",
       "      <th>ExTrs</th>\n",
       "      <td>1.000000</td>\n",
       "      <td>1.00000</td>\n",
       "    </tr>\n",
       "    <tr>\n",
       "      <th>GaussianNB</th>\n",
       "      <td>1.000000</td>\n",
       "      <td>1.00000</td>\n",
       "    </tr>\n",
       "    <tr>\n",
       "      <th>MLP</th>\n",
       "      <td>1.000000</td>\n",
       "      <td>1.00000</td>\n",
       "    </tr>\n",
       "    <tr>\n",
       "      <th>svc</th>\n",
       "      <td>1.000000</td>\n",
       "      <td>1.00000</td>\n",
       "    </tr>\n",
       "    <tr>\n",
       "      <th>xgb</th>\n",
       "      <td>1.000000</td>\n",
       "      <td>1.00000</td>\n",
       "    </tr>\n",
       "    <tr>\n",
       "      <th>logistic</th>\n",
       "      <td>0.999097</td>\n",
       "      <td>0.99896</td>\n",
       "    </tr>\n",
       "  </tbody>\n",
       "</table>\n",
       "</div>"
      ],
      "text/plain": [
       "set             train     test\n",
       "model_name                    \n",
       "BernoulliNB  1.000000  1.00000\n",
       "DTr          1.000000  1.00000\n",
       "ExTrs        1.000000  1.00000\n",
       "GaussianNB   1.000000  1.00000\n",
       "MLP          1.000000  1.00000\n",
       "svc          1.000000  1.00000\n",
       "xgb          1.000000  1.00000\n",
       "logistic     0.999097  0.99896"
      ]
     },
     "execution_count": 8,
     "metadata": {},
     "output_type": "execute_result"
    }
   ],
   "source": [
    "# Quick  look to the average performance\n",
    "result_df.groupby(by=['model_name','set']).agg({'mean'}).loc[:,'recall'].unstack().droplevel(0,axis=1).filter(['train','test']).sort_values(by=['test'], ascending=False)"
   ]
  },
  {
   "cell_type": "code",
   "execution_count": 10,
   "metadata": {},
   "outputs": [
    {
     "data": {
      "image/png": "[encoded data removed]",
      "text/plain": [
       "<Figure size 1200x400 with 1 Axes>"
      ]
     },
     "metadata": {},
     "output_type": "display_data"
    }
   ],
   "source": [
    "fig, ax = plt.subplots(figsize=(12,4))\n",
    "\n",
    "sns.barplot(\n",
    "    data = result_df.filter(['fold_id', 'model_name', 'set'] + [\"recall\"]),\n",
    "    x=\"model_name\", y=\"recall\", hue=\"set\",\n",
    "    palette=\"Reds\", alpha=.75, ax=ax, errorbar='sd'\n",
    ")\n",
    "\n",
    "sns.despine(top=True, right=True)\n",
    "\n",
    "# Set y-axis limits\n",
    "ax.set_ylim(0.7, 1)\n",
    "\n",
    "# Move legend outside of the plot\n",
    "ax.legend(loc='upper left', bbox_to_anchor=(1, 1))\n",
    "\n",
    "plt.tight_layout()  # Adjust layout so everything fits nicely\n",
    "#plt.savefig('experiment1_recall.png', dpi=200 )\n",
    "plt.show()"
   ]
  },
  {
   "cell_type": "code",
   "execution_count": 11,
   "metadata": {},
   "outputs": [],
   "source": [
    "# Saving Result\n",
    "result_df.to_csv('Data/ML_Experiment1.csv')"
   ]
  },
  {
   "cell_type": "markdown",
   "metadata": {},
   "source": [
    "# Conclusion:"
   ]
  },
  {
   "cell_type": "markdown",
   "metadata": {},
   "source": [
    "All the models selected are able to replicate the behaviour of the target column (is_exciting), this was an expected result since all the selected columns are used to create the logic for the classification problem, and regardless of the Machine Learning approach the models are able to learn this logic, with a slight detriment for the logistic regression which certainly can improve by hyperparametrization."
   ]
  }
 ],
 "metadata": {
  "kernelspec": {
   "display_name": "prenv",
   "language": "python",
   "name": "prenv"
  },
  "language_info": {
   "codemirror_mode": {
    "name": "ipython",
    "version": 3
   },
   "file_extension": ".py",
   "mimetype": "text/x-python",
   "name": "python",
   "nbconvert_exporter": "python",
   "pygments_lexer": "ipython3",
   "version": "3.11.2"
  },
  "orig_nbformat": 4
 },
 "nbformat": 4,
 "nbformat_minor": 2
}
